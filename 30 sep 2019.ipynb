{
 "cells": [
  {
   "cell_type": "markdown",
   "metadata": {},
   "source": [
    "## date:30 sep 2019\n",
    "## list comprehensions:\n",
    "syntax[expression for_loop_one_or_more"
   ]
  },
  {
   "cell_type": "code",
   "execution_count": 2,
   "metadata": {
    "collapsed": true
   },
   "outputs": [
    {
     "data": {
      "text/plain": [
       "[2, 4]"
      ]
     },
     "execution_count": 2,
     "metadata": {},
     "output_type": "execute_result"
    }
   ],
   "source": [
    "n = \"1 2 3 4 5\"\n",
    "int_n = []\n",
    "for ele in n.split():\n",
    "    if int(ele)%2 ==0 :\n",
    "        int_n.append(int(ele))\n",
    "int_n"
   ]
  },
  {
   "cell_type": "code",
   "execution_count": 4,
   "metadata": {},
   "outputs": [],
   "source": [
    "int_n2 = [int(ele) for ele in n.split() if int(ele)%2 ==0]"
   ]
  },
  {
   "cell_type": "code",
   "execution_count": 6,
   "metadata": {},
   "outputs": [
    {
     "data": {
      "text/plain": [
       "['h',\n",
       " 'i',\n",
       " 'h',\n",
       " 'o',\n",
       " 'w',\n",
       " 'a',\n",
       " 'r',\n",
       " 'e',\n",
       " 'y',\n",
       " 'o',\n",
       " 'u',\n",
       " '?',\n",
       " 'h',\n",
       " 'e',\n",
       " 'l',\n",
       " 'l',\n",
       " 'o']"
      ]
     },
     "execution_count": 6,
     "metadata": {},
     "output_type": "execute_result"
    }
   ],
   "source": [
    "s = \"hi how are you? hello\"\n",
    "ls = [char for w in s.split() for char in w ]\n",
    "ls"
   ]
  },
  {
   "cell_type": "code",
   "execution_count": 7,
   "metadata": {},
   "outputs": [
    {
     "name": "stdout",
     "output_type": "stream",
     "text": [
      "29\n"
     ]
    }
   ],
   "source": [
    "s=\"13B15A84R7\"\n",
    "c=0\n",
    "n=[int(i) for i in s if i.isdigit()]\n",
    "print(sum(n))"
   ]
  },
  {
   "cell_type": "code",
   "execution_count": 7,
   "metadata": {},
   "outputs": [
    {
     "name": "stdout",
     "output_type": "stream",
     "text": [
      "names must be given as spacessandhya siri sitha\n"
     ]
    },
    {
     "data": {
      "text/plain": [
       "['sandhya siri sitha', 'sandhya siri sitha', 'sandhya siri sitha']"
      ]
     },
     "execution_count": 7,
     "metadata": {},
     "output_type": "execute_result"
    }
   ],
   "source": [
    "names = input(\"names must be given as spaces\")\n",
    "[names for name in names.split() if \"s\" in name]"
   ]
  },
  {
   "cell_type": "code",
   "execution_count": 11,
   "metadata": {},
   "outputs": [
    {
     "name": "stdout",
     "output_type": "stream",
     "text": [
      "names must be given as spacessandhya siri sitha aruna\n"
     ]
    },
    {
     "data": {
      "text/plain": [
       "['sandhya', 'sitha', 'aruna']"
      ]
     },
     "execution_count": 11,
     "metadata": {},
     "output_type": "execute_result"
    }
   ],
   "source": [
    "names = input(\"names must be given as spaces\")\n",
    "[name for name in names.split() if name.endswith(\"a\")]"
   ]
  },
  {
   "cell_type": "code",
   "execution_count": 14,
   "metadata": {},
   "outputs": [
    {
     "name": "stdout",
     "output_type": "stream",
     "text": [
      "[34.6, 44.9, 68.3, 44.6, 12.7]\n"
     ]
    }
   ],
   "source": [
    "numbers = [34.6,-203.4,44.9,68.3,-12.2,44.6,12.7]\n",
    "print([num for num in numbers if num > 0])"
   ]
  },
  {
   "cell_type": "code",
   "execution_count": null,
   "metadata": {},
   "outputs": [],
   "source": []
  }
 ],
 "metadata": {
  "kernelspec": {
   "display_name": "Python 3",
   "language": "python",
   "name": "python3"
  },
  "language_info": {
   "codemirror_mode": {
    "name": "ipython",
    "version": 3
   },
   "file_extension": ".py",
   "mimetype": "text/x-python",
   "name": "python",
   "nbconvert_exporter": "python",
   "pygments_lexer": "ipython3",
   "version": "3.7.3"
  }
 },
 "nbformat": 4,
 "nbformat_minor": 2
}
